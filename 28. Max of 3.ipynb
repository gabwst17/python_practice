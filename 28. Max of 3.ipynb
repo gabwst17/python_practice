{
 "cells": [
  {
   "cell_type": "markdown",
   "id": "f005c5f9",
   "metadata": {},
   "source": [
    "Implement a function that takes as input three variables, and returns the largest of the three. Do this without using the Python max() function!."
   ]
  },
  {
   "cell_type": "code",
   "execution_count": 4,
   "id": "c8223f01",
   "metadata": {},
   "outputs": [],
   "source": [
    "def findmax(n1, n2, n3):\n",
    "  max = 0\n",
    "  for i in range (3):\n",
    "    if (n1 > n2) and (n1 > n3):\n",
    "      max = n1\n",
    "    elif (n2 > n1) and (n1 > n3):\n",
    "      max = n2\n",
    "    else:\n",
    "      max = n3\n",
    "  return max"
   ]
  },
  {
   "cell_type": "code",
   "execution_count": 8,
   "id": "ea221ae6",
   "metadata": {},
   "outputs": [
    {
     "name": "stdout",
     "output_type": "stream",
     "text": [
      "30\n"
     ]
    }
   ],
   "source": [
    "print(findmax(13,21,30)) \n"
   ]
  }
 ],
 "metadata": {
  "kernelspec": {
   "display_name": "Python 3.9.12 ('base')",
   "language": "python",
   "name": "python3"
  },
  "language_info": {
   "codemirror_mode": {
    "name": "ipython",
    "version": 3
   },
   "file_extension": ".py",
   "mimetype": "text/x-python",
   "name": "python",
   "nbconvert_exporter": "python",
   "pygments_lexer": "ipython3",
   "version": "3.9.12"
  },
  "vscode": {
   "interpreter": {
    "hash": "93eef172c485b0e2865c0cfcd7243686252ae057a7d5128f3351891711f5b81d"
   }
  }
 },
 "nbformat": 4,
 "nbformat_minor": 5
}
