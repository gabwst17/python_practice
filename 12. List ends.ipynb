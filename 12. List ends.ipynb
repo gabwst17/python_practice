{
 "cells": [
  {
   "cell_type": "markdown",
   "id": "f005c5f9",
   "metadata": {},
   "source": [
    "Write a program that takes a list of numbers (for example, a = [5, 10, 15, 20, 25]) and makes a new list of only the first and last elements of the given list. For practice, write this code inside a function."
   ]
  },
  {
   "cell_type": "code",
   "execution_count": 19,
   "id": "260028cd",
   "metadata": {
    "scrolled": false
   },
   "outputs": [],
   "source": [
    "a = [5, 10, 15, 20, 25]\n",
    "b = []\n",
    "c = []"
   ]
  },
  {
   "cell_type": "code",
   "execution_count": 20,
   "id": "96f41daa",
   "metadata": {},
   "outputs": [
    {
     "name": "stdout",
     "output_type": "stream",
     "text": [
      "[5, 25]\n"
     ]
    }
   ],
   "source": [
    "b.append (a[0])\n",
    "b.append (a[-1])\n",
    "\n",
    "print (b)"
   ]
  },
  {
   "cell_type": "code",
   "execution_count": 21,
   "id": "bcd93695",
   "metadata": {},
   "outputs": [
    {
     "name": "stdout",
     "output_type": "stream",
     "text": [
      "[5, 25]\n"
     ]
    }
   ],
   "source": [
    "def first_last():\n",
    "    c.append (a[0])\n",
    "    c.append (a[-1])\n",
    "\n",
    "first_last()\n",
    "print (c)"
   ]
  },
  {
   "cell_type": "code",
   "execution_count": null,
   "id": "c83e500b",
   "metadata": {},
   "outputs": [],
   "source": []
  }
 ],
 "metadata": {
  "kernelspec": {
   "display_name": "Python 3.9.12 ('base')",
   "language": "python",
   "name": "python3"
  },
  "language_info": {
   "codemirror_mode": {
    "name": "ipython",
    "version": 3
   },
   "file_extension": ".py",
   "mimetype": "text/x-python",
   "name": "python",
   "nbconvert_exporter": "python",
   "pygments_lexer": "ipython3",
   "version": "3.9.12"
  },
  "vscode": {
   "interpreter": {
    "hash": "93eef172c485b0e2865c0cfcd7243686252ae057a7d5128f3351891711f5b81d"
   }
  }
 },
 "nbformat": 4,
 "nbformat_minor": 5
}
