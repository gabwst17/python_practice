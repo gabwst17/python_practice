{
 "cells": [
  {
   "cell_type": "markdown",
   "id": "f005c5f9",
   "metadata": {},
   "source": [
    "Ask the user for a number and determine whether the number is prime or not. For those who have forgotten, a prime number is a number that has no divisors."
   ]
  },
  {
   "cell_type": "code",
   "execution_count": 23,
   "id": "260028cd",
   "metadata": {
    "scrolled": false
   },
   "outputs": [
    {
     "name": "stdout",
     "output_type": "stream",
     "text": [
      "Your number is: 6\n"
     ]
    }
   ],
   "source": [
    "number = input (\"Please enter a number to check.\")\n",
    "print (f\"Your number is: {number}\")"
   ]
  },
  {
   "cell_type": "code",
   "execution_count": 24,
   "id": "96f41daa",
   "metadata": {},
   "outputs": [],
   "source": [
    "number = int(number)"
   ]
  },
  {
   "cell_type": "code",
   "execution_count": 25,
   "id": "65d098b2",
   "metadata": {},
   "outputs": [
    {
     "name": "stdout",
     "output_type": "stream",
     "text": [
      "6 is not a prime number\n",
      "2 times 3 is 6\n"
     ]
    }
   ],
   "source": [
    "if number > 1:\n",
    "    for i in range (2,number):\n",
    "        if (number % i) == 0:\n",
    "            print (number, \"is not a prime number\")\n",
    "            print(i,\"times\",number//i,\"is\",number)\n",
    "            break\n",
    "    else:\n",
    "        print(number,\"is a prime number\") \n",
    "\n",
    "#for if the number is <=1\n",
    "else:\n",
    "   print(number,\"is not a prime number\")"
   ]
  },
  {
   "cell_type": "code",
   "execution_count": 28,
   "id": "e8e7e26b",
   "metadata": {},
   "outputs": [
    {
     "name": "stdout",
     "output_type": "stream",
     "text": [
      "2\n",
      "3\n"
     ]
    }
   ],
   "source": [
    "num = 4\n",
    "for i in range(2,num):\n",
    "    print (i)   "
   ]
  },
  {
   "cell_type": "code",
   "execution_count": null,
   "id": "609cac8e",
   "metadata": {},
   "outputs": [],
   "source": []
  }
 ],
 "metadata": {
  "kernelspec": {
   "display_name": "Python 3.9.12 ('base')",
   "language": "python",
   "name": "python3"
  },
  "language_info": {
   "codemirror_mode": {
    "name": "ipython",
    "version": 3
   },
   "file_extension": ".py",
   "mimetype": "text/x-python",
   "name": "python",
   "nbconvert_exporter": "python",
   "pygments_lexer": "ipython3",
   "version": "3.9.12"
  },
  "vscode": {
   "interpreter": {
    "hash": "93eef172c485b0e2865c0cfcd7243686252ae057a7d5128f3351891711f5b81d"
   }
  }
 },
 "nbformat": 4,
 "nbformat_minor": 5
}
