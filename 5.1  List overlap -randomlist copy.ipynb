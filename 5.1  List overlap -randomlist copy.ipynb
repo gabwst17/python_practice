{
 "cells": [
  {
   "cell_type": "markdown",
   "id": "f005c5f9",
   "metadata": {},
   "source": [
    "# Randomly generate two lists \n",
    "\n",
    "and write a program that returns a list that contains only the elements that are common between the lists (without duplicates).\n"
   ]
  },
  {
   "cell_type": "code",
   "execution_count": 1,
   "id": "81aa3012",
   "metadata": {
    "scrolled": false
   },
   "outputs": [
    {
     "name": "stderr",
     "output_type": "stream",
     "text": [
      "C:\\Users\\gabws\\AppData\\Local\\Temp\\ipykernel_9852\\976333922.py:4: DeprecationWarning: Importing display from IPython.core.display is deprecated since IPython 7.14, please import from IPython display\n",
      "  from IPython.core.display import display, HTML\n"
     ]
    },
    {
     "data": {
      "text/html": [
       "<style>.container { width:80% !important; }</style>"
      ],
      "text/plain": [
       "<IPython.core.display.HTML object>"
      ]
     },
     "metadata": {},
     "output_type": "display_data"
    }
   ],
   "source": [
    "from IPython.core.interactiveshell import InteractiveShell\n",
    "InteractiveShell.ast_node_interactivity = \"all\"\n",
    "\n",
    "from IPython.core.display import display, HTML\n",
    "display(HTML(\"<style>.container { width:80% !important; }</style>\"))"
   ]
  },
  {
   "cell_type": "code",
   "execution_count": 3,
   "id": "21eff17e",
   "metadata": {},
   "outputs": [
    {
     "name": "stdout",
     "output_type": "stream",
     "text": [
      "10 and 10\n"
     ]
    }
   ],
   "source": [
    "import random\n",
    "\n",
    "x = input (\"Please enter the list size for 1st list\")\n",
    "y = input (\"Please enter the list size for 2nd list\")\n",
    "\n",
    "print (x, \"and\", y)"
   ]
  },
  {
   "cell_type": "code",
   "execution_count": 4,
   "id": "498555f6",
   "metadata": {
    "scrolled": true
   },
   "outputs": [
    {
     "name": "stdout",
     "output_type": "stream",
     "text": [
      "5 and 3\n"
     ]
    }
   ],
   "source": [
    "list1 = input (\"Please enter the max number for 1st list\")\n",
    "list2 = input (\"Please enter the max number for 2nd list\")\n",
    "\n",
    "print (list1, \"and\", list2)"
   ]
  },
  {
   "cell_type": "code",
   "execution_count": 5,
   "id": "ac00a910",
   "metadata": {},
   "outputs": [
    {
     "name": "stdout",
     "output_type": "stream",
     "text": [
      "[4, 5, 2, 2, 2, 2, 3, 4, 1, 2]\n",
      "[2, 2, 2, 2, 2, 2, 2, 2, 2, 2]\n"
     ]
    }
   ],
   "source": [
    "a = []\n",
    "for i in range(0, int(x)):\n",
    "    number = random.randint(1,int(list1))\n",
    "    a.append(number)\n",
    "print(a)\n",
    "\n",
    "\n",
    "b = []\n",
    "for j in range(0, int(y)):\n",
    "    number2 = random.randint(1,int(list2))\n",
    "    b.append(number)\n",
    "print(b)"
   ]
  },
  {
   "cell_type": "code",
   "execution_count": 6,
   "id": "260028cd",
   "metadata": {
    "scrolled": false
   },
   "outputs": [
    {
     "name": "stdout",
     "output_type": "stream",
     "text": [
      "[2, 2, 2, 2, 2]\n"
     ]
    }
   ],
   "source": [
    "c = []\n",
    "\n",
    "for i in a:\n",
    "    if i in b:\n",
    "        c.append(i)\n",
    "        \n",
    "print (c)"
   ]
  },
  {
   "cell_type": "code",
   "execution_count": 7,
   "id": "2703a407",
   "metadata": {},
   "outputs": [
    {
     "name": "stdout",
     "output_type": "stream",
     "text": [
      "[2]\n"
     ]
    }
   ],
   "source": [
    "without_duplicate = list(dict.fromkeys(c))\n",
    "print (without_duplicate)"
   ]
  }
 ],
 "metadata": {
  "kernelspec": {
   "display_name": "Python 3.9.12 ('base')",
   "language": "python",
   "name": "python3"
  },
  "language_info": {
   "codemirror_mode": {
    "name": "ipython",
    "version": 3
   },
   "file_extension": ".py",
   "mimetype": "text/x-python",
   "name": "python",
   "nbconvert_exporter": "python",
   "pygments_lexer": "ipython3",
   "version": "3.9.12"
  },
  "vscode": {
   "interpreter": {
    "hash": "93eef172c485b0e2865c0cfcd7243686252ae057a7d5128f3351891711f5b81d"
   }
  }
 },
 "nbformat": 4,
 "nbformat_minor": 5
}
