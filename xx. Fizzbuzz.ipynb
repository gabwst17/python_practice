{
 "cells": [
  {
   "cell_type": "markdown",
   "id": "f005c5f9",
   "metadata": {},
   "source": [
    "Write a function that takes an input, if divisable by 3, print \"Fizz\", if divisable by 5, print \"Buzz\", if divisable by 3 and 5, print \"Fizzbuzz\", else print original input."
   ]
  },
  {
   "cell_type": "code",
   "execution_count": 1,
   "id": "c8223f01",
   "metadata": {},
   "outputs": [],
   "source": [
    "def fizzbuzz(input):\n",
    "  if input % 3 == 0 and input % 5 == 0:\n",
    "    print (\"FizzBuzz\")\n",
    "  elif input % 3 == 0:\n",
    "    print (\"Fizz\")\n",
    "  elif input % 5 == 0:\n",
    "    print (\"Buzz\")\n",
    "  else:\n",
    "    print (input)\n",
    "  \n"
   ]
  },
  {
   "cell_type": "code",
   "execution_count": 7,
   "id": "ea221ae6",
   "metadata": {},
   "outputs": [
    {
     "name": "stdout",
     "output_type": "stream",
     "text": [
      "Fizz\n",
      "Buzz\n",
      "FizzBuzz\n",
      "7\n"
     ]
    }
   ],
   "source": [
    "fizzbuzz(3)\n",
    "fizzbuzz(5)\n",
    "fizzbuzz(15)\n",
    "fizzbuzz(7)"
   ]
  },
  {
   "cell_type": "code",
   "execution_count": null,
   "id": "f2dd631a",
   "metadata": {},
   "outputs": [],
   "source": []
  }
 ],
 "metadata": {
  "kernelspec": {
   "display_name": "Python 3.9.12 ('base')",
   "language": "python",
   "name": "python3"
  },
  "language_info": {
   "codemirror_mode": {
    "name": "ipython",
    "version": 3
   },
   "file_extension": ".py",
   "mimetype": "text/x-python",
   "name": "python",
   "nbconvert_exporter": "python",
   "pygments_lexer": "ipython3",
   "version": "3.9.12"
  },
  "vscode": {
   "interpreter": {
    "hash": "93eef172c485b0e2865c0cfcd7243686252ae057a7d5128f3351891711f5b81d"
   }
  }
 },
 "nbformat": 4,
 "nbformat_minor": 5
}
