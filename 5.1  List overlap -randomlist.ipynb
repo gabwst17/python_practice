{
 "cells": [
  {
   "cell_type": "markdown",
   "id": "f005c5f9",
   "metadata": {},
   "source": [
    "# Randomly generate two lists \n",
    "\n",
    "and write a program that returns a list that contains only the elements that are common between the lists (without duplicates).\n"
   ]
  },
  {
   "cell_type": "code",
   "execution_count": 10,
   "id": "81aa3012",
   "metadata": {
    "scrolled": false
   },
   "outputs": [
    {
     "name": "stderr",
     "output_type": "stream",
     "text": [
      "C:\\Users\\gabws\\AppData\\Local\\Temp\\ipykernel_14604\\976333922.py:4: DeprecationWarning: Importing display from IPython.core.display is deprecated since IPython 7.14, please import from IPython display\n",
      "  from IPython.core.display import display, HTML\n"
     ]
    },
    {
     "data": {
      "text/html": [
       "<style>.container { width:80% !important; }</style>"
      ],
      "text/plain": [
       "<IPython.core.display.HTML object>"
      ]
     },
     "metadata": {},
     "output_type": "display_data"
    }
   ],
   "source": [
    "from IPython.core.interactiveshell import InteractiveShell\n",
    "InteractiveShell.ast_node_interactivity = \"all\"\n",
    "\n",
    "from IPython.core.display import display, HTML\n",
    "display(HTML(\"<style>.container { width:80% !important; }</style>\"))"
   ]
  },
  {
   "cell_type": "code",
   "execution_count": 15,
   "id": "21eff17e",
   "metadata": {},
   "outputs": [
    {
     "name": "stdout",
     "output_type": "stream",
     "text": [
      "Please enter the list size for 1st list5\n",
      "Please enter the list size for 2nd list3\n",
      "5 and 3\n"
     ]
    }
   ],
   "source": [
    "import random\n",
    "\n",
    "x = input (\"Please enter the list size for 1st list\")\n",
    "y = input (\"Please enter the list size for 2nd list\")\n",
    "\n",
    "print (x, \"and\", y)"
   ]
  },
  {
   "cell_type": "code",
   "execution_count": 16,
   "id": "498555f6",
   "metadata": {
    "scrolled": true
   },
   "outputs": [
    {
     "name": "stdout",
     "output_type": "stream",
     "text": [
      "Please enter the max number for 1st list5\n",
      "Please enter the max number for 2nd list5\n",
      "5 and 5\n"
     ]
    }
   ],
   "source": [
    "list1 = input (\"Please enter the max number for 1st list\")\n",
    "list2 = input (\"Please enter the max number for 2nd list\")\n",
    "\n",
    "print (list1, \"and\", list2)"
   ]
  },
  {
   "cell_type": "code",
   "execution_count": 20,
   "id": "ac00a910",
   "metadata": {},
   "outputs": [
    {
     "name": "stdout",
     "output_type": "stream",
     "text": [
      "[3, 4, 2, 1, 1]\n",
      "[1, 1, 1]\n"
     ]
    }
   ],
   "source": [
    "a = []\n",
    "for i in range(0, int(x)):\n",
    "    number = random.randint(1,int(list1))\n",
    "    a.append(number)\n",
    "print(a)\n",
    "\n",
    "\n",
    "b = []\n",
    "for j in range(0, int(y)):\n",
    "    number2 = random.randint(1,int(list2))\n",
    "    b.append(number)\n",
    "print(b)"
   ]
  },
  {
   "cell_type": "code",
   "execution_count": 21,
   "id": "260028cd",
   "metadata": {
    "scrolled": false
   },
   "outputs": [
    {
     "name": "stdout",
     "output_type": "stream",
     "text": [
      "[1, 1]\n"
     ]
    }
   ],
   "source": [
    "c = []\n",
    "\n",
    "for i in a:\n",
    "    if i in b:\n",
    "        c.append(i)\n",
    "        \n",
    "print (c)"
   ]
  },
  {
   "cell_type": "code",
   "execution_count": 22,
   "id": "2703a407",
   "metadata": {},
   "outputs": [
    {
     "name": "stdout",
     "output_type": "stream",
     "text": [
      "[1]\n"
     ]
    }
   ],
   "source": [
    "without_duplicate = list(dict.fromkeys(c))\n",
    "print (without_duplicate)"
   ]
  },
  {
   "cell_type": "code",
   "execution_count": null,
   "id": "a3794947",
   "metadata": {},
   "outputs": [],
   "source": []
  }
 ],
 "metadata": {
  "kernelspec": {
   "display_name": "Python 3 (ipykernel)",
   "language": "python",
   "name": "python3"
  },
  "language_info": {
   "codemirror_mode": {
    "name": "ipython",
    "version": 3
   },
   "file_extension": ".py",
   "mimetype": "text/x-python",
   "name": "python",
   "nbconvert_exporter": "python",
   "pygments_lexer": "ipython3",
   "version": "3.9.12"
  }
 },
 "nbformat": 4,
 "nbformat_minor": 5
}
