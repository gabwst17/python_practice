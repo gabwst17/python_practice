{
 "cells": [
  {
   "cell_type": "markdown",
   "id": "f005c5f9",
   "metadata": {},
   "source": [
    "Make a two-player Rock-Paper-Scissors game. \n",
    "(Hint: Ask for player plays (using input), compare them, \n",
    "print out a message of congratulations to the winner, and ask if the players want to start a new game)"
   ]
  },
  {
   "cell_type": "code",
   "execution_count": 2,
   "id": "21eff17e",
   "metadata": {},
   "outputs": [],
   "source": [
    "p1 = input (\"Player 1 do you want to choose rock, paper or scissors\")\n",
    "p2 = input (\"Player 2 do you want to choose rock, paper or scissors\")\n"
   ]
  },
  {
   "cell_type": "code",
   "execution_count": 3,
   "id": "018f2426",
   "metadata": {},
   "outputs": [
    {
     "name": "stdout",
     "output_type": "stream",
     "text": [
      "Paper wins!\n"
     ]
    }
   ],
   "source": [
    "import sys\n",
    "\n",
    "def game(p1, p2):\n",
    "    if p1 == p2:\n",
    "        return(\"It's a tie!\")\n",
    "    elif p1 == 'rock':\n",
    "        if p2 == 'scissors':\n",
    "            return(\"Rock wins!\")\n",
    "        else:\n",
    "            return(\"Paper wins!\")\n",
    "    elif p1 == 'scissors':\n",
    "        if p2 == 'paper':\n",
    "            return(\"Scissors win!\")\n",
    "        else:\n",
    "            return(\"Rock wins!\")\n",
    "    elif p1 == 'paper':\n",
    "        if p2 == 'rock':\n",
    "            return(\"Paper wins!\")\n",
    "        else:\n",
    "            return(\"Scissors win!\")\n",
    "    else:\n",
    "        return(\"Invalid input! You have not entered rock, paper or scissors, try again.\")\n",
    "        sys.exit()\n",
    "\n",
    "print(game(p1, p2))"
   ]
  },
  {
   "cell_type": "code",
   "execution_count": null,
   "id": "46a51232",
   "metadata": {},
   "outputs": [],
   "source": []
  }
 ],
 "metadata": {
  "kernelspec": {
   "display_name": "Python 3.9.12 ('base')",
   "language": "python",
   "name": "python3"
  },
  "language_info": {
   "codemirror_mode": {
    "name": "ipython",
    "version": 3
   },
   "file_extension": ".py",
   "mimetype": "text/x-python",
   "name": "python",
   "nbconvert_exporter": "python",
   "pygments_lexer": "ipython3",
   "version": "3.9.12"
  },
  "vscode": {
   "interpreter": {
    "hash": "93eef172c485b0e2865c0cfcd7243686252ae057a7d5128f3351891711f5b81d"
   }
  }
 },
 "nbformat": 4,
 "nbformat_minor": 5
}
